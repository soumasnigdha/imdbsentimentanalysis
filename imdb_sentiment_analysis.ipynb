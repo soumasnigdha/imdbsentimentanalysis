{
 "cells": [
  {
   "cell_type": "markdown",
   "metadata": {
    "id": "oer-rc70-33n"
   },
   "source": [
    "# IMDB Review Semantic Analysis - Simple RNN Implementation"
   ]
  },
  {
   "cell_type": "code",
   "execution_count": 1,
   "metadata": {
    "executionInfo": {
     "elapsed": 8,
     "status": "ok",
     "timestamp": 1748175172792,
     "user": {
      "displayName": "Soumasnigdha Pal",
      "userId": "09869750709768861072"
     },
     "user_tz": -330
    },
    "id": "zmMM8f9c_AJh"
   },
   "outputs": [],
   "source": [
    "import numpy as np\n",
    "import tensorflow as tf\n",
    "from tensorflow.keras.datasets import imdb\n",
    "from tensorflow.keras.preprocessing import sequence\n",
    "from tensorflow.keras.models import Sequential, load_model\n",
    "from tensorflow.keras.layers import Embedding, SimpleRNN, Dense, Dropout\n",
    "from tensorflow.keras.callbacks import EarlyStopping, TensorBoard\n",
    "from tensorflow.keras.optimizers import Adam"
   ]
  },
  {
   "cell_type": "code",
   "execution_count": 30,
   "metadata": {
    "colab": {
     "base_uri": "https://localhost:8080/"
    },
    "executionInfo": {
     "elapsed": 5850,
     "status": "ok",
     "timestamp": 1748175180686,
     "user": {
      "displayName": "Soumasnigdha Pal",
      "userId": "09869750709768861072"
     },
     "user_tz": -330
    },
    "id": "kwOFZV0B_kGB",
    "outputId": "323176c8-373a-4e45-dc6c-7388ad66b27e"
   },
   "outputs": [
    {
     "name": "stdout",
     "output_type": "stream",
     "text": [
      "Downloading data from https://storage.googleapis.com/tensorflow/tf-keras-datasets/imdb.npz\n",
      "\u001b[1m17464789/17464789\u001b[0m \u001b[32m━━━━━━━━━━━━━━━━━━━━\u001b[0m\u001b[37m\u001b[0m \u001b[1m1s\u001b[0m 0us/step\n",
      "Training data shape: (25000,), Training labels shape: (25000,)\n",
      "Testing data shape: (25000,), Testing labels shape: (25000,)\n"
     ]
    }
   ],
   "source": [
    "## Load the imdb dataset\n",
    "\n",
    "max_features = 10000 #Vocabulary size\n",
    "(X_train,y_train), (X_test,y_test) = imdb.load_data(num_words=max_features)\n",
    "\n",
    "# Print the shape of the data\n",
    "\n",
    "print(f\"Training data shape: {X_train.shape}, Training labels shape: {y_train.shape}\")\n",
    "print(f\"Testing data shape: {X_test.shape}, Testing labels shape: {y_test.shape}\")"
   ]
  },
  {
   "cell_type": "code",
   "execution_count": 31,
   "metadata": {
    "colab": {
     "base_uri": "https://localhost:8080/"
    },
    "executionInfo": {
     "elapsed": 16,
     "status": "ok",
     "timestamp": 1748175180703,
     "user": {
      "displayName": "Soumasnigdha Pal",
      "userId": "09869750709768861072"
     },
     "user_tz": -330
    },
    "id": "-9AML8fCDNL3",
    "outputId": "c1cc02ba-157a-460a-d47f-bb3b1ff74172"
   },
   "outputs": [
    {
     "name": "stdout",
     "output_type": "stream",
     "text": [
      "Sample review: [1, 14, 22, 16, 43, 530, 973, 1622, 1385, 65, 458, 4468, 66, 3941, 4, 173, 36, 256, 5, 25, 100, 43, 838, 112, 50, 670, 2, 9, 35, 480, 284, 5, 150, 4, 172, 112, 167, 2, 336, 385, 39, 4, 172, 4536, 1111, 17, 546, 38, 13, 447, 4, 192, 50, 16, 6, 147, 2025, 19, 14, 22, 4, 1920, 4613, 469, 4, 22, 71, 87, 12, 16, 43, 530, 38, 76, 15, 13, 1247, 4, 22, 17, 515, 17, 12, 16, 626, 18, 2, 5, 62, 386, 12, 8, 316, 8, 106, 5, 4, 2223, 5244, 16, 480, 66, 3785, 33, 4, 130, 12, 16, 38, 619, 5, 25, 124, 51, 36, 135, 48, 25, 1415, 33, 6, 22, 12, 215, 28, 77, 52, 5, 14, 407, 16, 82, 2, 8, 4, 107, 117, 5952, 15, 256, 4, 2, 7, 3766, 5, 723, 36, 71, 43, 530, 476, 26, 400, 317, 46, 7, 4, 2, 1029, 13, 104, 88, 4, 381, 15, 297, 98, 32, 2071, 56, 26, 141, 6, 194, 7486, 18, 4, 226, 22, 21, 134, 476, 26, 480, 5, 144, 30, 5535, 18, 51, 36, 28, 224, 92, 25, 104, 4, 226, 65, 16, 38, 1334, 88, 12, 16, 283, 5, 16, 4472, 113, 103, 32, 15, 16, 5345, 19, 178, 32]\n",
      "Sample label: 1\n"
     ]
    }
   ],
   "source": [
    "## Inspect a sample review and its label\n",
    "\n",
    "sample_review=X_train[0]\n",
    "sample_label=y_train[0]\n",
    "print(f\"Sample review: {sample_review}\")\n",
    "print(f\"Sample label: {sample_label}\")"
   ]
  },
  {
   "cell_type": "code",
   "execution_count": 33,
   "metadata": {
    "colab": {
     "base_uri": "https://localhost:8080/"
    },
    "executionInfo": {
     "elapsed": 80,
     "status": "ok",
     "timestamp": 1748175209307,
     "user": {
      "displayName": "Soumasnigdha Pal",
      "userId": "09869750709768861072"
     },
     "user_tz": -330
    },
    "id": "DNYqpVDPABnT",
    "outputId": "b8929526-8775-4f22-f69d-a95f8817695b"
   },
   "outputs": [
    {
     "name": "stdout",
     "output_type": "stream",
     "text": [
      "Decoded review: ? this film was just brilliant casting location scenery story direction everyone's really suited the part they played and you could just imagine being there robert ? is an amazing actor and now the same being director ? father came from the same scottish island as myself so i loved the fact there was a real connection with this film the witty remarks throughout the film were great it was just brilliant so much that i bought the film as soon as it was released for ? and would recommend it to everyone to watch and the fly fishing was amazing really cried at the end it was so sad and you know what they say if you cry at a film it must have been good and this definitely was also ? to the two little boy's that played the ? of norman and paul they were just brilliant children are often left out of the ? list i think because the stars that play them all grown up are such a big profile for the whole film but these children are amazing and should be praised for what they have done don't you think the whole story was so lovely because it was true and was someone's life after all that was shared with us all\n"
     ]
    }
   ],
   "source": [
    "## Mapping of word index back to word\n",
    "\n",
    "word_index = imdb.get_word_index()\n",
    "reverse_word_index = {value: key for key,value in word_index.items()}\n",
    "decoded_review = ' '.join([reverse_word_index.get(i-3,'?') for i in sample_review])\n",
    "print(f\"Decoded review: {decoded_review}\")\n"
   ]
  },
  {
   "cell_type": "code",
   "execution_count": 16,
   "metadata": {
    "executionInfo": {
     "elapsed": 76,
     "status": "ok",
     "timestamp": 1748172129221,
     "user": {
      "displayName": "Soumasnigdha Pal",
      "userId": "09869750709768861072"
     },
     "user_tz": -330
    },
    "id": "4Si3KD4pO0nR"
   },
   "outputs": [],
   "source": []
  },
  {
   "cell_type": "code",
   "execution_count": 17,
   "metadata": {
    "colab": {
     "base_uri": "https://localhost:8080/"
    },
    "executionInfo": {
     "elapsed": 67,
     "status": "ok",
     "timestamp": 1748172129222,
     "user": {
      "displayName": "Soumasnigdha Pal",
      "userId": "09869750709768861072"
     },
     "user_tz": -330
    },
    "id": "jSRXgfUpRCem",
    "outputId": "ad11cf19-4606-4aa6-9d4f-e2bb1b4bf534"
   },
   "outputs": [
    {
     "name": "stdout",
     "output_type": "stream",
     "text": [
      "Max length of sentence in X_train: 2494\n",
      "Max length of sentence in X_test: 2315\n",
      "Overall max length: 2494\n"
     ]
    }
   ],
   "source": [
    "# Checking max length of a sentence\n",
    "\n",
    "max_len_train = max([len(x) for x in X_train])\n",
    "max_len_test = max([len(x) for x in X_test])\n",
    "\n",
    "print(f\"Max length of sentence in X_train: {max_len_train}\")\n",
    "print(f\"Max length of sentence in X_test: {max_len_test}\")\n",
    "\n",
    "max_len = max(max_len_train, max_len_test)\n",
    "print(f\"Overall max length: {max_len}\")"
   ]
  },
  {
   "cell_type": "code",
   "execution_count": 18,
   "metadata": {
    "colab": {
     "base_uri": "https://localhost:8080/"
    },
    "executionInfo": {
     "elapsed": 16,
     "status": "ok",
     "timestamp": 1748172129222,
     "user": {
      "displayName": "Soumasnigdha Pal",
      "userId": "09869750709768861072"
     },
     "user_tz": -330
    },
    "id": "TvjVFdcLSh7Q",
    "outputId": "945cc685-94e5-4f67-8f5a-6bc0dc7ae676"
   },
   "outputs": [
    {
     "name": "stdout",
     "output_type": "stream",
     "text": [
      "Median length of sentence in X_train: 178.0\n",
      "Median length of sentence in X_test: 174.0\n"
     ]
    }
   ],
   "source": [
    "#Checking the median of the length of sentences\n",
    "\n",
    "median_len_train = np.median([len(x) for x in X_train])\n",
    "median_len_test = np.median([len(x) for x in X_test])\n",
    "\n",
    "print(f\"Median length of sentence in X_train: {median_len_train}\")\n",
    "print(f\"Median length of sentence in X_test: {median_len_test}\")"
   ]
  },
  {
   "cell_type": "code",
   "execution_count": 34,
   "metadata": {
    "executionInfo": {
     "elapsed": 763,
     "status": "ok",
     "timestamp": 1748175218835,
     "user": {
      "displayName": "Soumasnigdha Pal",
      "userId": "09869750709768861072"
     },
     "user_tz": -330
    },
    "id": "mU5cm3TCRrIx"
   },
   "outputs": [],
   "source": [
    "# Padding the data\n",
    "\n",
    "max_len = 500\n",
    "X_train = sequence.pad_sequences(X_train, maxlen=max_len)\n",
    "X_test = sequence.pad_sequences(X_test, maxlen=max_len)"
   ]
  },
  {
   "cell_type": "code",
   "execution_count": 29,
   "metadata": {
    "colab": {
     "base_uri": "https://localhost:8080/",
     "height": 238
    },
    "executionInfo": {
     "elapsed": 30,
     "status": "ok",
     "timestamp": 1748172710427,
     "user": {
      "displayName": "Soumasnigdha Pal",
      "userId": "09869750709768861072"
     },
     "user_tz": -330
    },
    "id": "5RLbj80NUUk5",
    "outputId": "17a9acb7-ea74-4f59-98b2-d0ea9903507f"
   },
   "outputs": [
    {
     "data": {
      "text/html": [
       "<pre style=\"white-space:pre;overflow-x:auto;line-height:normal;font-family:Menlo,'DejaVu Sans Mono',consolas,'Courier New',monospace\"><span style=\"font-weight: bold\">Model: \"sequential_2\"</span>\n",
       "</pre>\n"
      ],
      "text/plain": [
       "\u001b[1mModel: \"sequential_2\"\u001b[0m\n"
      ]
     },
     "metadata": {},
     "output_type": "display_data"
    },
    {
     "data": {
      "text/html": [
       "<pre style=\"white-space:pre;overflow-x:auto;line-height:normal;font-family:Menlo,'DejaVu Sans Mono',consolas,'Courier New',monospace\">┏━━━━━━━━━━━━━━━━━━━━━━━━━━━━━━━━━┳━━━━━━━━━━━━━━━━━━━━━━━━┳━━━━━━━━━━━━━━━┓\n",
       "┃<span style=\"font-weight: bold\"> Layer (type)                    </span>┃<span style=\"font-weight: bold\"> Output Shape           </span>┃<span style=\"font-weight: bold\">       Param # </span>┃\n",
       "┡━━━━━━━━━━━━━━━━━━━━━━━━━━━━━━━━━╇━━━━━━━━━━━━━━━━━━━━━━━━╇━━━━━━━━━━━━━━━┩\n",
       "│ embedding_2 (<span style=\"color: #0087ff; text-decoration-color: #0087ff\">Embedding</span>)         │ ?                      │   <span style=\"color: #00af00; text-decoration-color: #00af00\">0</span> (unbuilt) │\n",
       "├─────────────────────────────────┼────────────────────────┼───────────────┤\n",
       "│ simple_rnn_2 (<span style=\"color: #0087ff; text-decoration-color: #0087ff\">SimpleRNN</span>)        │ ?                      │   <span style=\"color: #00af00; text-decoration-color: #00af00\">0</span> (unbuilt) │\n",
       "├─────────────────────────────────┼────────────────────────┼───────────────┤\n",
       "│ dense_2 (<span style=\"color: #0087ff; text-decoration-color: #0087ff\">Dense</span>)                 │ ?                      │   <span style=\"color: #00af00; text-decoration-color: #00af00\">0</span> (unbuilt) │\n",
       "└─────────────────────────────────┴────────────────────────┴───────────────┘\n",
       "</pre>\n"
      ],
      "text/plain": [
       "┏━━━━━━━━━━━━━━━━━━━━━━━━━━━━━━━━━┳━━━━━━━━━━━━━━━━━━━━━━━━┳━━━━━━━━━━━━━━━┓\n",
       "┃\u001b[1m \u001b[0m\u001b[1mLayer (type)                   \u001b[0m\u001b[1m \u001b[0m┃\u001b[1m \u001b[0m\u001b[1mOutput Shape          \u001b[0m\u001b[1m \u001b[0m┃\u001b[1m \u001b[0m\u001b[1m      Param #\u001b[0m\u001b[1m \u001b[0m┃\n",
       "┡━━━━━━━━━━━━━━━━━━━━━━━━━━━━━━━━━╇━━━━━━━━━━━━━━━━━━━━━━━━╇━━━━━━━━━━━━━━━┩\n",
       "│ embedding_2 (\u001b[38;5;33mEmbedding\u001b[0m)         │ ?                      │   \u001b[38;5;34m0\u001b[0m (unbuilt) │\n",
       "├─────────────────────────────────┼────────────────────────┼───────────────┤\n",
       "│ simple_rnn_2 (\u001b[38;5;33mSimpleRNN\u001b[0m)        │ ?                      │   \u001b[38;5;34m0\u001b[0m (unbuilt) │\n",
       "├─────────────────────────────────┼────────────────────────┼───────────────┤\n",
       "│ dense_2 (\u001b[38;5;33mDense\u001b[0m)                 │ ?                      │   \u001b[38;5;34m0\u001b[0m (unbuilt) │\n",
       "└─────────────────────────────────┴────────────────────────┴───────────────┘\n"
      ]
     },
     "metadata": {},
     "output_type": "display_data"
    },
    {
     "data": {
      "text/html": [
       "<pre style=\"white-space:pre;overflow-x:auto;line-height:normal;font-family:Menlo,'DejaVu Sans Mono',consolas,'Courier New',monospace\"><span style=\"font-weight: bold\"> Total params: </span><span style=\"color: #00af00; text-decoration-color: #00af00\">0</span> (0.00 B)\n",
       "</pre>\n"
      ],
      "text/plain": [
       "\u001b[1m Total params: \u001b[0m\u001b[38;5;34m0\u001b[0m (0.00 B)\n"
      ]
     },
     "metadata": {},
     "output_type": "display_data"
    },
    {
     "data": {
      "text/html": [
       "<pre style=\"white-space:pre;overflow-x:auto;line-height:normal;font-family:Menlo,'DejaVu Sans Mono',consolas,'Courier New',monospace\"><span style=\"font-weight: bold\"> Trainable params: </span><span style=\"color: #00af00; text-decoration-color: #00af00\">0</span> (0.00 B)\n",
       "</pre>\n"
      ],
      "text/plain": [
       "\u001b[1m Trainable params: \u001b[0m\u001b[38;5;34m0\u001b[0m (0.00 B)\n"
      ]
     },
     "metadata": {},
     "output_type": "display_data"
    },
    {
     "data": {
      "text/html": [
       "<pre style=\"white-space:pre;overflow-x:auto;line-height:normal;font-family:Menlo,'DejaVu Sans Mono',consolas,'Courier New',monospace\"><span style=\"font-weight: bold\"> Non-trainable params: </span><span style=\"color: #00af00; text-decoration-color: #00af00\">0</span> (0.00 B)\n",
       "</pre>\n"
      ],
      "text/plain": [
       "\u001b[1m Non-trainable params: \u001b[0m\u001b[38;5;34m0\u001b[0m (0.00 B)\n"
      ]
     },
     "metadata": {},
     "output_type": "display_data"
    }
   ],
   "source": [
    "# Designing the model\n",
    "model = Sequential()\n",
    "model.add(Embedding(max_features, 128))\n",
    "model.add(SimpleRNN(128, dropout=0.2, recurrent_dropout=0.2, activation='relu'))\n",
    "model.add(Dense(1, activation='sigmoid'))\n",
    "model.summary()"
   ]
  },
  {
   "cell_type": "code",
   "execution_count": 30,
   "metadata": {
    "executionInfo": {
     "elapsed": 1,
     "status": "ok",
     "timestamp": 1748172712541,
     "user": {
      "displayName": "Soumasnigdha Pal",
      "userId": "09869750709768861072"
     },
     "user_tz": -330
    },
    "id": "N1RUVNScck_j"
   },
   "outputs": [],
   "source": [
    "# Create an instance of Early Stopping Callback\n",
    "early_stopping = EarlyStopping(monitor='val_loss', patience=5, restore_best_weights=True, verbose=1)"
   ]
  },
  {
   "cell_type": "code",
   "execution_count": 31,
   "metadata": {
    "colab": {
     "base_uri": "https://localhost:8080/"
    },
    "executionInfo": {
     "elapsed": 387850,
     "status": "ok",
     "timestamp": 1748173102417,
     "user": {
      "displayName": "Soumasnigdha Pal",
      "userId": "09869750709768861072"
     },
     "user_tz": -330
    },
    "id": "Nn0bFINEdTy4",
    "outputId": "237b210f-2521-4ce6-d061-dc4d09bc9435"
   },
   "outputs": [
    {
     "name": "stdout",
     "output_type": "stream",
     "text": [
      "Epoch 1/10\n",
      "\u001b[1m625/625\u001b[0m \u001b[32m━━━━━━━━━━━━━━━━━━━━\u001b[0m\u001b[37m\u001b[0m \u001b[1m32s\u001b[0m 46ms/step - accuracy: 0.5168 - loss: 0.6917 - val_accuracy: 0.5866 - val_loss: 0.6825\n",
      "Epoch 2/10\n",
      "\u001b[1m625/625\u001b[0m \u001b[32m━━━━━━━━━━━━━━━━━━━━\u001b[0m\u001b[37m\u001b[0m \u001b[1m28s\u001b[0m 45ms/step - accuracy: 0.6173 - loss: 0.6808 - val_accuracy: 0.6608 - val_loss: 0.6445\n",
      "Epoch 3/10\n",
      "\u001b[1m625/625\u001b[0m \u001b[32m━━━━━━━━━━━━━━━━━━━━\u001b[0m\u001b[37m\u001b[0m \u001b[1m41s\u001b[0m 45ms/step - accuracy: 0.6810 - loss: 0.6310 - val_accuracy: 0.7026 - val_loss: 0.5922\n",
      "Epoch 4/10\n",
      "\u001b[1m625/625\u001b[0m \u001b[32m━━━━━━━━━━━━━━━━━━━━\u001b[0m\u001b[37m\u001b[0m \u001b[1m29s\u001b[0m 46ms/step - accuracy: 0.7443 - loss: 0.5542 - val_accuracy: 0.7342 - val_loss: 0.5415\n",
      "Epoch 5/10\n",
      "\u001b[1m625/625\u001b[0m \u001b[32m━━━━━━━━━━━━━━━━━━━━\u001b[0m\u001b[37m\u001b[0m \u001b[1m40s\u001b[0m 45ms/step - accuracy: 0.7787 - loss: 0.4884 - val_accuracy: 0.7438 - val_loss: 0.5176\n",
      "Epoch 6/10\n",
      "\u001b[1m625/625\u001b[0m \u001b[32m━━━━━━━━━━━━━━━━━━━━\u001b[0m\u001b[37m\u001b[0m \u001b[1m42s\u001b[0m 46ms/step - accuracy: 0.8041 - loss: 0.4390 - val_accuracy: 0.7452 - val_loss: 0.5093\n",
      "Epoch 7/10\n",
      "\u001b[1m625/625\u001b[0m \u001b[32m━━━━━━━━━━━━━━━━━━━━\u001b[0m\u001b[37m\u001b[0m \u001b[1m40s\u001b[0m 45ms/step - accuracy: 0.8239 - loss: 0.4089 - val_accuracy: 0.7458 - val_loss: 0.5094\n",
      "Epoch 8/10\n",
      "\u001b[1m625/625\u001b[0m \u001b[32m━━━━━━━━━━━━━━━━━━━━\u001b[0m\u001b[37m\u001b[0m \u001b[1m42s\u001b[0m 46ms/step - accuracy: 0.8377 - loss: 0.3837 - val_accuracy: 0.7500 - val_loss: 0.5067\n",
      "Epoch 9/10\n",
      "\u001b[1m625/625\u001b[0m \u001b[32m━━━━━━━━━━━━━━━━━━━━\u001b[0m\u001b[37m\u001b[0m \u001b[1m41s\u001b[0m 46ms/step - accuracy: 0.8504 - loss: 0.3592 - val_accuracy: 0.7506 - val_loss: 0.5122\n",
      "Epoch 10/10\n",
      "\u001b[1m625/625\u001b[0m \u001b[32m━━━━━━━━━━━━━━━━━━━━\u001b[0m\u001b[37m\u001b[0m \u001b[1m40s\u001b[0m 45ms/step - accuracy: 0.8562 - loss: 0.3434 - val_accuracy: 0.7484 - val_loss: 0.5143\n",
      "Restoring model weights from the end of the best epoch: 8.\n"
     ]
    },
    {
     "data": {
      "text/plain": [
       "<keras.src.callbacks.history.History at 0x7b4825dfef50>"
      ]
     },
     "execution_count": 31,
     "metadata": {},
     "output_type": "execute_result"
    }
   ],
   "source": [
    "# Train the model with Early Stopping\n",
    "adam = Adam(learning_rate=0.0001)\n",
    "model.compile(loss='binary_crossentropy', optimizer=adam, metrics=['accuracy'])\n",
    "model.fit(X_train, y_train, batch_size=32, epochs=10, validation_split=0.2, callbacks=[early_stopping])"
   ]
  },
  {
   "cell_type": "code",
   "execution_count": 32,
   "metadata": {
    "executionInfo": {
     "elapsed": 80,
     "status": "ok",
     "timestamp": 1748173592694,
     "user": {
      "displayName": "Soumasnigdha Pal",
      "userId": "09869750709768861072"
     },
     "user_tz": -330
    },
    "id": "tZHgIWWdeNu3"
   },
   "outputs": [],
   "source": [
    "# Save the model\n",
    "model.save('simple_rnn_imdb.keras')"
   ]
  },
  {
   "cell_type": "code",
   "execution_count": 15,
   "metadata": {
    "colab": {
     "base_uri": "https://localhost:8080/",
     "height": 255
    },
    "executionInfo": {
     "elapsed": 316,
     "status": "ok",
     "timestamp": 1748174490404,
     "user": {
      "displayName": "Soumasnigdha Pal",
      "userId": "09869750709768861072"
     },
     "user_tz": -330
    },
    "id": "aE6HO9Hn1F3z",
    "outputId": "fef361b4-0f8e-4b93-bb77-38365a01e511"
   },
   "outputs": [
    {
     "data": {
      "text/html": [
       "<pre style=\"white-space:pre;overflow-x:auto;line-height:normal;font-family:Menlo,'DejaVu Sans Mono',consolas,'Courier New',monospace\"><span style=\"font-weight: bold\">Model: \"sequential_2\"</span>\n",
       "</pre>\n"
      ],
      "text/plain": [
       "\u001b[1mModel: \"sequential_2\"\u001b[0m\n"
      ]
     },
     "metadata": {},
     "output_type": "display_data"
    },
    {
     "data": {
      "text/html": [
       "<pre style=\"white-space:pre;overflow-x:auto;line-height:normal;font-family:Menlo,'DejaVu Sans Mono',consolas,'Courier New',monospace\">┏━━━━━━━━━━━━━━━━━━━━━━━━━━━━━━━━━┳━━━━━━━━━━━━━━━━━━━━━━━━┳━━━━━━━━━━━━━━━┓\n",
       "┃<span style=\"font-weight: bold\"> Layer (type)                    </span>┃<span style=\"font-weight: bold\"> Output Shape           </span>┃<span style=\"font-weight: bold\">       Param # </span>┃\n",
       "┡━━━━━━━━━━━━━━━━━━━━━━━━━━━━━━━━━╇━━━━━━━━━━━━━━━━━━━━━━━━╇━━━━━━━━━━━━━━━┩\n",
       "│ embedding_2 (<span style=\"color: #0087ff; text-decoration-color: #0087ff\">Embedding</span>)         │ (<span style=\"color: #00af00; text-decoration-color: #00af00\">32</span>, <span style=\"color: #00af00; text-decoration-color: #00af00\">500</span>, <span style=\"color: #00af00; text-decoration-color: #00af00\">128</span>)         │     <span style=\"color: #00af00; text-decoration-color: #00af00\">1,280,000</span> │\n",
       "├─────────────────────────────────┼────────────────────────┼───────────────┤\n",
       "│ simple_rnn_2 (<span style=\"color: #0087ff; text-decoration-color: #0087ff\">SimpleRNN</span>)        │ (<span style=\"color: #00af00; text-decoration-color: #00af00\">32</span>, <span style=\"color: #00af00; text-decoration-color: #00af00\">128</span>)              │        <span style=\"color: #00af00; text-decoration-color: #00af00\">32,896</span> │\n",
       "├─────────────────────────────────┼────────────────────────┼───────────────┤\n",
       "│ dense_2 (<span style=\"color: #0087ff; text-decoration-color: #0087ff\">Dense</span>)                 │ (<span style=\"color: #00af00; text-decoration-color: #00af00\">32</span>, <span style=\"color: #00af00; text-decoration-color: #00af00\">1</span>)                │           <span style=\"color: #00af00; text-decoration-color: #00af00\">129</span> │\n",
       "└─────────────────────────────────┴────────────────────────┴───────────────┘\n",
       "</pre>\n"
      ],
      "text/plain": [
       "┏━━━━━━━━━━━━━━━━━━━━━━━━━━━━━━━━━┳━━━━━━━━━━━━━━━━━━━━━━━━┳━━━━━━━━━━━━━━━┓\n",
       "┃\u001b[1m \u001b[0m\u001b[1mLayer (type)                   \u001b[0m\u001b[1m \u001b[0m┃\u001b[1m \u001b[0m\u001b[1mOutput Shape          \u001b[0m\u001b[1m \u001b[0m┃\u001b[1m \u001b[0m\u001b[1m      Param #\u001b[0m\u001b[1m \u001b[0m┃\n",
       "┡━━━━━━━━━━━━━━━━━━━━━━━━━━━━━━━━━╇━━━━━━━━━━━━━━━━━━━━━━━━╇━━━━━━━━━━━━━━━┩\n",
       "│ embedding_2 (\u001b[38;5;33mEmbedding\u001b[0m)         │ (\u001b[38;5;34m32\u001b[0m, \u001b[38;5;34m500\u001b[0m, \u001b[38;5;34m128\u001b[0m)         │     \u001b[38;5;34m1,280,000\u001b[0m │\n",
       "├─────────────────────────────────┼────────────────────────┼───────────────┤\n",
       "│ simple_rnn_2 (\u001b[38;5;33mSimpleRNN\u001b[0m)        │ (\u001b[38;5;34m32\u001b[0m, \u001b[38;5;34m128\u001b[0m)              │        \u001b[38;5;34m32,896\u001b[0m │\n",
       "├─────────────────────────────────┼────────────────────────┼───────────────┤\n",
       "│ dense_2 (\u001b[38;5;33mDense\u001b[0m)                 │ (\u001b[38;5;34m32\u001b[0m, \u001b[38;5;34m1\u001b[0m)                │           \u001b[38;5;34m129\u001b[0m │\n",
       "└─────────────────────────────────┴────────────────────────┴───────────────┘\n"
      ]
     },
     "metadata": {},
     "output_type": "display_data"
    },
    {
     "data": {
      "text/html": [
       "<pre style=\"white-space:pre;overflow-x:auto;line-height:normal;font-family:Menlo,'DejaVu Sans Mono',consolas,'Courier New',monospace\"><span style=\"font-weight: bold\"> Total params: </span><span style=\"color: #00af00; text-decoration-color: #00af00\">3,939,077</span> (15.03 MB)\n",
       "</pre>\n"
      ],
      "text/plain": [
       "\u001b[1m Total params: \u001b[0m\u001b[38;5;34m3,939,077\u001b[0m (15.03 MB)\n"
      ]
     },
     "metadata": {},
     "output_type": "display_data"
    },
    {
     "data": {
      "text/html": [
       "<pre style=\"white-space:pre;overflow-x:auto;line-height:normal;font-family:Menlo,'DejaVu Sans Mono',consolas,'Courier New',monospace\"><span style=\"font-weight: bold\"> Trainable params: </span><span style=\"color: #00af00; text-decoration-color: #00af00\">1,313,025</span> (5.01 MB)\n",
       "</pre>\n"
      ],
      "text/plain": [
       "\u001b[1m Trainable params: \u001b[0m\u001b[38;5;34m1,313,025\u001b[0m (5.01 MB)\n"
      ]
     },
     "metadata": {},
     "output_type": "display_data"
    },
    {
     "data": {
      "text/html": [
       "<pre style=\"white-space:pre;overflow-x:auto;line-height:normal;font-family:Menlo,'DejaVu Sans Mono',consolas,'Courier New',monospace\"><span style=\"font-weight: bold\"> Non-trainable params: </span><span style=\"color: #00af00; text-decoration-color: #00af00\">0</span> (0.00 B)\n",
       "</pre>\n"
      ],
      "text/plain": [
       "\u001b[1m Non-trainable params: \u001b[0m\u001b[38;5;34m0\u001b[0m (0.00 B)\n"
      ]
     },
     "metadata": {},
     "output_type": "display_data"
    },
    {
     "data": {
      "text/html": [
       "<pre style=\"white-space:pre;overflow-x:auto;line-height:normal;font-family:Menlo,'DejaVu Sans Mono',consolas,'Courier New',monospace\"><span style=\"font-weight: bold\"> Optimizer params: </span><span style=\"color: #00af00; text-decoration-color: #00af00\">2,626,052</span> (10.02 MB)\n",
       "</pre>\n"
      ],
      "text/plain": [
       "\u001b[1m Optimizer params: \u001b[0m\u001b[38;5;34m2,626,052\u001b[0m (10.02 MB)\n"
      ]
     },
     "metadata": {},
     "output_type": "display_data"
    }
   ],
   "source": [
    "# Load the pre-trained model with ReLU activation\n",
    "model = load_model('simple_rnn_imdb.keras')\n",
    "model.summary()"
   ]
  },
  {
   "cell_type": "code",
   "execution_count": 16,
   "metadata": {
    "colab": {
     "base_uri": "https://localhost:8080/"
    },
    "executionInfo": {
     "elapsed": 39,
     "status": "ok",
     "timestamp": 1748174490451,
     "user": {
      "displayName": "Soumasnigdha Pal",
      "userId": "09869750709768861072"
     },
     "user_tz": -330
    },
    "id": "32ijb8b8RCTF",
    "outputId": "21eda380-1b22-4707-fc39-71b05a2641da"
   },
   "outputs": [
    {
     "data": {
      "text/plain": [
       "[array([[-0.02976437, -0.00882436,  0.02724012, ...,  0.00207404,\n",
       "         -0.06450394, -0.04821667],\n",
       "        [ 0.01621924, -0.01513571, -0.00691114, ...,  0.01250886,\n",
       "         -0.0340037 , -0.03810706],\n",
       "        [ 0.05296165,  0.03147747,  0.04964292, ..., -0.01572418,\n",
       "         -0.02564909,  0.0015419 ],\n",
       "        ...,\n",
       "        [-0.02629832, -0.04608593,  0.04625484, ...,  0.02282253,\n",
       "          0.04504054,  0.0302557 ],\n",
       "        [ 0.03650793,  0.03244345, -0.03043529, ...,  0.02510871,\n",
       "          0.01200504, -0.02785615],\n",
       "        [ 0.04848333, -0.03077552,  0.04196044, ..., -0.06245155,\n",
       "         -0.02178361,  0.04568968]], dtype=float32),\n",
       " array([[ 0.02221957,  0.09532358, -0.01882246, ..., -0.12888099,\n",
       "         -0.04765936, -0.04894518],\n",
       "        [ 0.04578915, -0.01204052,  0.11601876, ..., -0.02319083,\n",
       "         -0.17668724,  0.05178858],\n",
       "        [ 0.01153003, -0.06662818, -0.00932592, ..., -0.09111843,\n",
       "          0.1890512 ,  0.06115425],\n",
       "        ...,\n",
       "        [ 0.07180934,  0.13473895, -0.16102527, ..., -0.01137315,\n",
       "         -0.10032132, -0.11417855],\n",
       "        [ 0.14712662, -0.11911997,  0.0225962 , ..., -0.12899606,\n",
       "          0.14146401, -0.01612863],\n",
       "        [-0.07185543,  0.15712872, -0.02367098, ..., -0.15081947,\n",
       "          0.18123674,  0.12787153]], dtype=float32),\n",
       " array([[-0.00925006, -0.0908777 , -0.05007465, ...,  0.02749011,\n",
       "         -0.15118136, -0.03729075],\n",
       "        [-0.01018283, -0.05100345, -0.09186103, ...,  0.02318955,\n",
       "         -0.08340164,  0.06684963],\n",
       "        [-0.02112137,  0.10793319,  0.01444381, ..., -0.09479725,\n",
       "         -0.05010287, -0.03079191],\n",
       "        ...,\n",
       "        [-0.07969376, -0.027109  , -0.01404465, ...,  0.07677155,\n",
       "          0.08189362,  0.00701547],\n",
       "        [-0.06251741,  0.0067442 ,  0.18678649, ...,  0.01386112,\n",
       "         -0.11954294,  0.03863092],\n",
       "        [-0.03374299, -0.0984435 ,  0.04297109, ..., -0.00889606,\n",
       "         -0.05017472,  0.02983071]], dtype=float32),\n",
       " array([ 0.00157639, -0.00116276,  0.00471847,  0.00134311,  0.01547262,\n",
       "         0.00969298, -0.00507316,  0.00847575,  0.0039459 , -0.00515905,\n",
       "        -0.00334181,  0.00492977,  0.01843564, -0.01123875,  0.02099757,\n",
       "        -0.00316164,  0.01350465,  0.01636223,  0.00051014,  0.02641882,\n",
       "        -0.01642096, -0.00022634, -0.00281116, -0.03064037,  0.01556885,\n",
       "        -0.00746428,  0.00795746,  0.00153179,  0.00963221, -0.01164276,\n",
       "         0.03419862,  0.02590287,  0.01478341, -0.00913379, -0.00083727,\n",
       "         0.01290997,  0.00877655, -0.00829914,  0.00569002,  0.01125593,\n",
       "         0.01628608,  0.00447014,  0.008568  ,  0.00653365, -0.00388269,\n",
       "         0.00803113,  0.00888462,  0.02040059, -0.00430931,  0.00623455,\n",
       "         0.00573145, -0.00176295, -0.00508546,  0.00860305,  0.01997613,\n",
       "         0.01106395,  0.01616966,  0.00853246, -0.00761198,  0.02672491,\n",
       "         0.00654108, -0.00623714,  0.00378281, -0.02014395,  0.00110232,\n",
       "        -0.01233981,  0.01178615,  0.01405066,  0.00680712,  0.0002726 ,\n",
       "        -0.00396591,  0.00489343,  0.01280981, -0.00137972, -0.0077464 ,\n",
       "         0.01527514,  0.03661073,  0.02604306, -0.00148693,  0.01786043,\n",
       "        -0.01558281,  0.02933497,  0.00807719,  0.03233756, -0.00242144,\n",
       "         0.00360532,  0.01572897, -0.00403486,  0.02317974, -0.00136417,\n",
       "         0.0027927 , -0.00011494,  0.00357853, -0.00650128, -0.00206637,\n",
       "         0.00533799,  0.00953639, -0.02484296,  0.0130321 ,  0.00120634,\n",
       "        -0.00490547,  0.00402072,  0.00842634, -0.00661939, -0.00198462,\n",
       "         0.01843923, -0.0044666 ,  0.00200423,  0.01860412,  0.00249863,\n",
       "         0.00677164, -0.02215904,  0.02913068, -0.00454163,  0.01841415,\n",
       "         0.010481  , -0.00256055, -0.00119602,  0.02421171,  0.00165741,\n",
       "         0.00412673, -0.00456542, -0.01279816,  0.01298963,  0.00404779,\n",
       "         0.01206787,  0.00288699,  0.00729491], dtype=float32),\n",
       " array([[ 0.06381269],\n",
       "        [-0.22794071],\n",
       "        [ 0.34013206],\n",
       "        [-0.34845623],\n",
       "        [-0.15048797],\n",
       "        [-0.34832972],\n",
       "        [ 0.04016491],\n",
       "        [ 0.33331996],\n",
       "        [-0.36908272],\n",
       "        [-0.14096746],\n",
       "        [-0.02780444],\n",
       "        [ 0.073282  ],\n",
       "        [-0.32950985],\n",
       "        [ 0.21010034],\n",
       "        [-0.12748496],\n",
       "        [ 0.01841452],\n",
       "        [-0.3427457 ],\n",
       "        [-0.21315193],\n",
       "        [-0.03481534],\n",
       "        [-0.32321852],\n",
       "        [ 0.08427422],\n",
       "        [ 0.28353074],\n",
       "        [ 0.22842525],\n",
       "        [-0.25566977],\n",
       "        [ 0.22244695],\n",
       "        [-0.08340049],\n",
       "        [-0.18303888],\n",
       "        [ 0.16055991],\n",
       "        [ 0.03332482],\n",
       "        [ 0.13927224],\n",
       "        [ 0.42317784],\n",
       "        [ 0.23268762],\n",
       "        [-0.16488095],\n",
       "        [-0.10475692],\n",
       "        [-0.09440184],\n",
       "        [-0.30760825],\n",
       "        [-0.23539704],\n",
       "        [ 0.02093861],\n",
       "        [-0.22942342],\n",
       "        [-0.2668077 ],\n",
       "        [-0.21958442],\n",
       "        [-0.29414546],\n",
       "        [-0.0557603 ],\n",
       "        [ 0.28376174],\n",
       "        [ 0.16804662],\n",
       "        [-0.28910798],\n",
       "        [ 0.1417981 ],\n",
       "        [-0.30832365],\n",
       "        [ 0.13449146],\n",
       "        [ 0.23285913],\n",
       "        [ 0.29843506],\n",
       "        [ 0.17755581],\n",
       "        [-0.10542319],\n",
       "        [-0.24391499],\n",
       "        [-0.11200314],\n",
       "        [ 0.25397408],\n",
       "        [-0.24059221],\n",
       "        [-0.3291976 ],\n",
       "        [-0.03767144],\n",
       "        [-0.25562453],\n",
       "        [-0.35218072],\n",
       "        [-0.01217276],\n",
       "        [-0.18941283],\n",
       "        [ 0.2187791 ],\n",
       "        [ 0.02407572],\n",
       "        [ 0.20641993],\n",
       "        [ 0.14985792],\n",
       "        [-0.28748408],\n",
       "        [ 0.05280151],\n",
       "        [-0.267574  ],\n",
       "        [-0.14208882],\n",
       "        [ 0.05966303],\n",
       "        [-0.29797643],\n",
       "        [ 0.19277672],\n",
       "        [ 0.19846122],\n",
       "        [ 0.10757854],\n",
       "        [-0.26478708],\n",
       "        [-0.29966208],\n",
       "        [ 0.26125893],\n",
       "        [ 0.08322612],\n",
       "        [-0.17691305],\n",
       "        [ 0.38886827],\n",
       "        [ 0.27054656],\n",
       "        [-0.3343791 ],\n",
       "        [-0.12369886],\n",
       "        [ 0.0200328 ],\n",
       "        [-0.05653268],\n",
       "        [-0.03004878],\n",
       "        [ 0.16857383],\n",
       "        [ 0.20665395],\n",
       "        [ 0.1689545 ],\n",
       "        [ 0.2659966 ],\n",
       "        [-0.14606294],\n",
       "        [ 0.22599913],\n",
       "        [-0.14601558],\n",
       "        [-0.06726701],\n",
       "        [ 0.27908283],\n",
       "        [ 0.01987648],\n",
       "        [ 0.13965362],\n",
       "        [-0.15566619],\n",
       "        [ 0.02124333],\n",
       "        [-0.21426521],\n",
       "        [ 0.3151078 ],\n",
       "        [ 0.2638761 ],\n",
       "        [-0.01047916],\n",
       "        [-0.3798398 ],\n",
       "        [ 0.20034383],\n",
       "        [-0.04938843],\n",
       "        [ 0.31128   ],\n",
       "        [ 0.16373153],\n",
       "        [-0.19006258],\n",
       "        [-0.1194367 ],\n",
       "        [ 0.30765364],\n",
       "        [-0.17218506],\n",
       "        [ 0.05505627],\n",
       "        [-0.16475192],\n",
       "        [-0.24358447],\n",
       "        [ 0.2527667 ],\n",
       "        [ 0.23364629],\n",
       "        [ 0.17355978],\n",
       "        [ 0.32992828],\n",
       "        [ 0.19667327],\n",
       "        [ 0.11609804],\n",
       "        [ 0.3097224 ],\n",
       "        [ 0.04279347],\n",
       "        [-0.30105054],\n",
       "        [-0.17804383],\n",
       "        [-0.04725872]], dtype=float32),\n",
       " array([0.02488598], dtype=float32)]"
      ]
     },
     "execution_count": 16,
     "metadata": {},
     "output_type": "execute_result"
    }
   ],
   "source": [
    "model.get_weights()"
   ]
  },
  {
   "cell_type": "code",
   "execution_count": 25,
   "metadata": {
    "executionInfo": {
     "elapsed": 3,
     "status": "ok",
     "timestamp": 1748175015528,
     "user": {
      "displayName": "Soumasnigdha Pal",
      "userId": "09869750709768861072"
     },
     "user_tz": -330
    },
    "id": "AQErOkycSsj_"
   },
   "outputs": [],
   "source": [
    "# Helper functions\n",
    "## Decode reviews\n",
    "def decode_review(encoded_review):\n",
    "  return ''.join([reverse_word_index.get(i-3,'?') for i in encoded_review])\n",
    "## Preprocess user input\n",
    "def preprocess_text(text):\n",
    "  words = text.lower().split()\n",
    "  encoded_review = [word_index.get(word, 2) + 3 for word in words]\n",
    "  padded_review = sequence.pad_sequences([encoded_review], maxlen=500)\n",
    "  return padded_review"
   ]
  },
  {
   "cell_type": "code",
   "execution_count": 26,
   "metadata": {
    "executionInfo": {
     "elapsed": 10,
     "status": "ok",
     "timestamp": 1748175044446,
     "user": {
      "displayName": "Soumasnigdha Pal",
      "userId": "09869750709768861072"
     },
     "user_tz": -330
    },
    "id": "88kthfuxTiVX"
   },
   "outputs": [],
   "source": [
    "# Prediction function\n",
    "def predict_sentiment(review):\n",
    "  preprocessed_input = preprocess_text(review)\n",
    "  prediction = model.predict(preprocessed_input)\n",
    "  sentiment = 'Positive' if prediction[0][0] > 0.5 else 'Negative'\n",
    "  return sentiment, prediction[0][0]\n"
   ]
  },
  {
   "cell_type": "code",
   "execution_count": null,
   "metadata": {
    "colab": {
     "base_uri": "https://localhost:8080/"
    },
    "executionInfo": {
     "elapsed": 131,
     "status": "ok",
     "timestamp": 1748175427135,
     "user": {
      "displayName": "Soumasnigdha Pal",
      "userId": "09869750709768861072"
     },
     "user_tz": -330
    },
    "id": "VvMK_0LXV2Kz",
    "outputId": "93cf19fb-3250-4680-fa0e-26f53653b470"
   },
   "outputs": [
    {
     "name": "stdout",
     "output_type": "stream",
     "text": [
      "\u001b[1m1/1\u001b[0m \u001b[32m━━━━━━━━━━━━━━━━━━━━\u001b[0m\u001b[37m\u001b[0m \u001b[1m0s\u001b[0m 39ms/step\n",
      "Sentiment: Positive, Confidence: 0.7643303275108337 with 75.50% accuracy.\n"
     ]
    }
   ],
   "source": [
    "# User input and prediction\n",
    "example_review = \"This movie was fantastic! I loved every minute of it.\"\n",
    "sentiment, confidence = predict_sentiment(example_review)\n",
    "print(f\"Sentiment: {sentiment}, Confidence: {confidence}\")"
   ]
  },
  {
   "cell_type": "code",
   "execution_count": null,
   "metadata": {
    "id": "rImao8K1WCiZ"
   },
   "outputs": [],
   "source": []
  }
 ],
 "metadata": {
  "colab": {
   "authorship_tag": "ABX9TyPppCkLMU3A5i8qMv2XqJoO",
   "provenance": []
  },
  "kernelspec": {
   "display_name": "Python 3",
   "name": "python3"
  },
  "language_info": {
   "codemirror_mode": {
    "name": "ipython",
    "version": 3
   },
   "file_extension": ".py",
   "mimetype": "text/x-python",
   "name": "python",
   "nbconvert_exporter": "python",
   "pygments_lexer": "ipython3",
   "version": "3.12.0"
  }
 },
 "nbformat": 4,
 "nbformat_minor": 0
}
